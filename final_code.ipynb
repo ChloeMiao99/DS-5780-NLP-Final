{
  "nbformat": 4,
  "nbformat_minor": 0,
  "metadata": {
    "colab": {
      "provenance": []
    },
    "kernelspec": {
      "name": "python3",
      "display_name": "Python 3"
    },
    "language_info": {
      "name": "python"
    }
  },
  "cells": [
    {
      "cell_type": "markdown",
      "source": [
        "\n",
        "\n",
        "Final\n",
        "\n",
        "TF-IDF\n",
        "\n",
        "Chloe Miao\n",
        "\n",
        "# Classify spam and non-spam text messages using TF-IDF"
      ],
      "metadata": {
        "id": "BN-QEGJdmwXL"
      }
    },
    {
      "cell_type": "markdown",
      "source": [
        "## Data\n",
        "\n",
        "The Spam Collection dataset comprises a series of text messages amassed for studying text Spam. It encompasses a total of 5,574 English messages, each labeled as 'ham' for genuine messages, or 'spam' for unsolicited content. With 747 messages identified as spam and 4,827 as non-spam, the dataset presents an imbalance that necessitates careful consideration during the data preparation phase to ensure the efficacy of subsequent analyses. The structure of the dataset ensures that each message is presented on an individual line. Moreover, every line is split into two distinct columns: 'v1', which denotes the category ('ham' or 'spam'), and 'v2', which presents the unprocessed content of the SMS.\n",
        "\n",
        "This collection has been assembled from a variety of scholarly sources. It features an assortment of 425 spam text messages that were manually curated from Grumbletext, a public forum in the UK where individuals report unsolicited text messages. The corpus also includes a randomly selected sample of 3,375 non-spam texts from the NUS SMS Corpus (NSC), a repository of around 10,000 genuine messages assembled for academic purposes at the National University of Singapore's Department of Computer Science. Additionally, the dataset integrates 450 non-spam messages derived from the doctoral dissertation of Caroline Tagg. The collection is further enriched by the inclusion of the text Spam Corpus v.0.1 Big, which comprises 1,002 messages categorized as non-spam and 322 classified as spam.\n",
        "\n",
        "## Data Preparation\n",
        "\n",
        "The preparation of the dataset is a multi-step process aimed at optimizing the data for analysis. The initial phase involves discarding three superfluous columns to streamline the dataset. The remaining columns are then renamed for greater clarity and ease of understanding. The categorization of spam messages is simplified through binary encoding, assigning '0' to non-spam and '1' to spam messages. This is followed by the removal of duplicates and any entries with missing values, ensuring the dataset's integrity. The cleaned dataset thus consists of 4,516 non-spam and 653 spam messages, highlighting the predominance of legitimate texts. To address the imbalance and enhance the dataset's utility for training equitable machine learning models, a downsampling of non-spam messages is performed, equalizing the representation of both message types. This step ensures an even representation of spam and non-spam messages, resulting in a balanced dataset comprising 653 messages from each category.\n",
        "\n",
        "\n",
        "\n",
        "\n",
        "\n",
        "\n"
      ],
      "metadata": {
        "id": "5lrwVdY_o_Mt"
      }
    },
    {
      "cell_type": "code",
      "execution_count": null,
      "metadata": {
        "id": "ZMjEoBitkyoW"
      },
      "outputs": [],
      "source": [
        "# import packages needed\n",
        "import os\n",
        "import pandas as pd\n",
        "import spacy\n",
        "import matplotlib.pyplot as plt\n",
        "import seaborn as sns\n",
        "import scipy.stats as stats"
      ]
    },
    {
      "cell_type": "code",
      "source": [
        "# Load the Drive helper and make my google drive available to get data from my google drive\n",
        "from google.colab import drive\n",
        "drive.mount('/content/drive')"
      ],
      "metadata": {
        "colab": {
          "base_uri": "https://localhost:8080/"
        },
        "id": "IS9R4XQ7nLLj",
        "outputId": "beaedb3c-d274-411c-9c1d-db48ea9aad00"
      },
      "execution_count": null,
      "outputs": [
        {
          "output_type": "stream",
          "name": "stdout",
          "text": [
            "Mounted at /content/drive\n"
          ]
        }
      ]
    },
    {
      "cell_type": "code",
      "source": [
        "# change directory\n",
        "os.chdir(\"/content/drive/MyDrive/DS-5780-NLP\")\n",
        "os.listdir()"
      ],
      "metadata": {
        "colab": {
          "base_uri": "https://localhost:8080/"
        },
        "id": "FLSNKkkOaAvT",
        "outputId": "780131b5-92ad-4dab-9e90-16a67b6341ac"
      },
      "execution_count": null,
      "outputs": [
        {
          "output_type": "execute_result",
          "data": {
            "text/plain": [
              "['spam.csv', 'reading_600_texts.csv', 'nrc.csv']"
            ]
          },
          "metadata": {},
          "execution_count": 3
        }
      ]
    },
    {
      "cell_type": "code",
      "source": [
        "# read in the data\n",
        "reading_data = pd.read_csv('spam.csv', encoding='ISO-8859-1')\n",
        "\n",
        "# display the data\n",
        "print(reading_data.head())\n",
        "\n",
        "# see dimensions of the data\n",
        "reading_data.shape"
      ],
      "metadata": {
        "colab": {
          "base_uri": "https://localhost:8080/"
        },
        "id": "tU_wsAcrqhMr",
        "outputId": "ff4f220c-0096-4011-ee5e-6117f591053f"
      },
      "execution_count": null,
      "outputs": [
        {
          "output_type": "stream",
          "name": "stdout",
          "text": [
            "     v1                                                 v2 Unnamed: 2  \\\n",
            "0   ham  Go until jurong point, crazy.. Available only ...        NaN   \n",
            "1   ham                      Ok lar... Joking wif u oni...        NaN   \n",
            "2  spam  Free entry in 2 a wkly comp to win FA Cup fina...        NaN   \n",
            "3   ham  U dun say so early hor... U c already then say...        NaN   \n",
            "4   ham  Nah I don't think he goes to usf, he lives aro...        NaN   \n",
            "\n",
            "  Unnamed: 3 Unnamed: 4  \n",
            "0        NaN        NaN  \n",
            "1        NaN        NaN  \n",
            "2        NaN        NaN  \n",
            "3        NaN        NaN  \n",
            "4        NaN        NaN  \n"
          ]
        },
        {
          "output_type": "execute_result",
          "data": {
            "text/plain": [
              "(5572, 5)"
            ]
          },
          "metadata": {},
          "execution_count": 9
        }
      ]
    },
    {
      "cell_type": "code",
      "source": [
        "# Select only the first two columns and rename them\n",
        "cleaned_data = reading_data[['v1', 'v2']].rename(columns={'v1': 'spam', 'v2': 'message'})\n",
        "\n",
        "# Change 'ham' to 0 and 'spam' to 1 in the 'spam' column\n",
        "cleaned_data['spam'] = cleaned_data['spam'].map({'ham': 0, 'spam': 1})\n",
        "print(cleaned_data.head())"
      ],
      "metadata": {
        "colab": {
          "base_uri": "https://localhost:8080/"
        },
        "id": "a7s1r3bFtKo4",
        "outputId": "34c78509-7a94-4027-b688-46b6b393864a"
      },
      "execution_count": null,
      "outputs": [
        {
          "output_type": "stream",
          "name": "stdout",
          "text": [
            "   spam                                            message\n",
            "0     0  Go until jurong point, crazy.. Available only ...\n",
            "1     0                      Ok lar... Joking wif u oni...\n",
            "2     1  Free entry in 2 a wkly comp to win FA Cup fina...\n",
            "3     0  U dun say so early hor... U c already then say...\n",
            "4     0  Nah I don't think he goes to usf, he lives aro...\n"
          ]
        }
      ]
    },
    {
      "cell_type": "code",
      "source": [
        "# check if there are any missing values\n",
        "missing_values = cleaned_data.isnull().sum()\n",
        "missing_values"
      ],
      "metadata": {
        "colab": {
          "base_uri": "https://localhost:8080/"
        },
        "id": "g1Ff3eIbwo6n",
        "outputId": "a6bb59fb-4ff1-4ff0-e0e5-a9e8f9b5dafa"
      },
      "execution_count": null,
      "outputs": [
        {
          "output_type": "execute_result",
          "data": {
            "text/plain": [
              "spam       0\n",
              "message    0\n",
              "dtype: int64"
            ]
          },
          "metadata": {},
          "execution_count": 11
        }
      ]
    },
    {
      "cell_type": "code",
      "source": [
        "# Check if there's any duplicates\n",
        "duplicated_values = cleaned_data[cleaned_data['message'].duplicated()]\n",
        "print(duplicated_values)"
      ],
      "metadata": {
        "colab": {
          "base_uri": "https://localhost:8080/"
        },
        "id": "pDEbEnSPW2q_",
        "outputId": "2794a2d3-5845-4280-e400-bbc0e1eab584"
      },
      "execution_count": null,
      "outputs": [
        {
          "output_type": "stream",
          "name": "stdout",
          "text": [
            "      spam                                            message\n",
            "102      0  As per your request 'Melle Melle (Oru Minnamin...\n",
            "153      0  As per your request 'Melle Melle (Oru Minnamin...\n",
            "206      0  As I entered my cabin my PA said, '' Happy B'd...\n",
            "222      0                             Sorry, I'll call later\n",
            "325      0                   No calls..messages..missed calls\n",
            "...    ...                                                ...\n",
            "5524     1  You are awarded a SiPix Digital Camera! call 0...\n",
            "5535     0  I know you are thinkin malaria. But relax, chi...\n",
            "5539     0                         Just sleeping..and surfing\n",
            "5553     0                        Hahaha..use your brain dear\n",
            "5558     0                             Sorry, I'll call later\n",
            "\n",
            "[403 rows x 2 columns]\n"
          ]
        }
      ]
    },
    {
      "cell_type": "code",
      "source": [
        "# Remove all the dulicates\n",
        "cleaned_data = cleaned_data.drop_duplicates(subset=['message'], keep='first')\n",
        "print(cleaned_data.shape)"
      ],
      "metadata": {
        "colab": {
          "base_uri": "https://localhost:8080/"
        },
        "id": "8GxPy3BDb8ck",
        "outputId": "96133478-41df-47a4-ef73-7621f082fb8c"
      },
      "execution_count": null,
      "outputs": [
        {
          "output_type": "stream",
          "name": "stdout",
          "text": [
            "(5169, 2)\n"
          ]
        }
      ]
    },
    {
      "cell_type": "code",
      "source": [
        "# visualize the dataset\n",
        "# Calculate the raw counts and percentages\n",
        "spam_counts = cleaned_data['spam'].value_counts()\n",
        "total_messages = cleaned_data['spam'].count()\n",
        "percentages = (spam_counts / total_messages) * 100\n",
        "\n",
        "# Plotting with counts and annotate with counts and percentages\n",
        "plt.figure(figsize=(8, 6))\n",
        "spam_counts.plot(kind='bar')\n",
        "plt.title('Count of Spam vs Non-Spam Messages')\n",
        "plt.xlabel('Message Type')\n",
        "plt.ylabel('Count')\n",
        "plt.xticks(ticks=[0, 1], labels=['Non-Spam', 'Spam'], rotation=0)\n",
        "\n",
        "# Annotate with both counts and percentages\n",
        "for index, value in enumerate(spam_counts):\n",
        "    plt.text(index, value, f'{value}\\n({percentages[index]:.2f}%)', ha='center', va='bottom')\n",
        "\n",
        "plt.show()"
      ],
      "metadata": {
        "colab": {
          "base_uri": "https://localhost:8080/",
          "height": 564
        },
        "id": "7wdjfK78b9GL",
        "outputId": "9c58ee6f-1f0c-40c5-86d7-591cb0973df7"
      },
      "execution_count": null,
      "outputs": [
        {
          "output_type": "display_data",
          "data": {
            "text/plain": [
              "<Figure size 800x600 with 1 Axes>"
            ],
            "image/png": "[encoded data removed]"
          },
          "metadata": {}
        }
      ]
    },
    {
      "cell_type": "code",
      "source": [
        "from sklearn.utils import resample\n",
        "\n",
        "# Separate majority and minority classes\n",
        "df_majority = cleaned_data[cleaned_data.spam==0]\n",
        "df_minority = cleaned_data[cleaned_data.spam==1]\n",
        "\n",
        "# Downsample majority class\n",
        "df_majority_downsampled = resample(df_majority,\n",
        "                                   replace=False,    # sample without replacement\n",
        "                                   n_samples=len(df_minority),     # to match minority class\n",
        "                                   random_state=123) # reproducible results\n",
        "\n",
        "# Combine minority class with downsampled majority class\n",
        "df_balanced = pd.concat([df_majority_downsampled, df_minority])\n",
        "\n",
        "# Displaying the new balance of the dataset\n",
        "balanced_counts = df_balanced['spam'].value_counts()\n",
        "balanced_shape = df_balanced.shape\n",
        "\n",
        "print(balanced_counts, balanced_shape)"
      ],
      "metadata": {
        "colab": {
          "base_uri": "https://localhost:8080/"
        },
        "id": "Psc5XMuZMjPf",
        "outputId": "35b8a279-9814-40ba-f933-a0481a5aef96"
      },
      "execution_count": null,
      "outputs": [
        {
          "output_type": "stream",
          "name": "stdout",
          "text": [
            "spam\n",
            "0    653\n",
            "1    653\n",
            "Name: count, dtype: int64 (1306, 2)\n"
          ]
        }
      ]
    },
    {
      "cell_type": "markdown",
      "source": [
        "## Analysis\n",
        "\n"
      ],
      "metadata": {
        "id": "V2x-XILp7165"
      }
    },
    {
      "cell_type": "code",
      "source": [
        "# Load English tokenizer, tagger, parser, and NER\n",
        "nlp = spacy.load(\"en_core_web_sm\")\n",
        "\n",
        "# Function to remove stop words\n",
        "def remove_stop_words(text):\n",
        "    doc = nlp(text)\n",
        "    filtered_sentence = [token.text for token in doc if not token.is_stop]\n",
        "    return \" \".join(filtered_sentence)"
      ],
      "metadata": {
        "id": "He_Tu-HtHRZc"
      },
      "execution_count": null,
      "outputs": []
    },
    {
      "cell_type": "code",
      "source": [
        "from sklearn.feature_extraction.text import TfidfVectorizer\n",
        "\n",
        "# Apply the function to remove stop words from each message\n",
        "df_balanced['message_no_stopwords'] = df_balanced['message'].apply(remove_stop_words)\n",
        "\n",
        "# remove the words with the lowest document occurance by setting min_df=3\n",
        "tfidf_vectorizer = TfidfVectorizer(min_df=3)\n",
        "\n",
        "# Fit and transform the messages to a TF-IDF representation\n",
        "tfidf_matrix = tfidf_vectorizer.fit_transform(df_balanced['message_no_stopwords'])\n",
        "\n",
        "# Now, we'll convert the TF-IDF matrix to a DataFrame for easier analysis\n",
        "tfidf_df = pd.DataFrame(tfidf_matrix.toarray(), columns=tfidf_vectorizer.get_feature_names_out())\n",
        "\n",
        "# Add the spam label back to the DataFrame\n",
        "tfidf_df['spam'] = df_balanced['spam'].values\n",
        "print(tfidf_df)"
      ],
      "metadata": {
        "colab": {
          "base_uri": "https://localhost:8080/"
        },
        "id": "MMvSXQJNJqvh",
        "outputId": "2a1558b4-c1f2-4fe3-e0f6-be0a9af8975e"
      },
      "execution_count": null,
      "outputs": [
        {
          "output_type": "stream",
          "name": "stdout",
          "text": [
            "       00  000   02  0207   03   04   05   06  07xxxxxxxxx  0800  ...  \\\n",
            "0     0.0  0.0  0.0   0.0  0.0  0.0  0.0  0.0          0.0   0.0  ...   \n",
            "1     0.0  0.0  0.0   0.0  0.0  0.0  0.0  0.0          0.0   0.0  ...   \n",
            "2     0.0  0.0  0.0   0.0  0.0  0.0  0.0  0.0          0.0   0.0  ...   \n",
            "3     0.0  0.0  0.0   0.0  0.0  0.0  0.0  0.0          0.0   0.0  ...   \n",
            "4     0.0  0.0  0.0   0.0  0.0  0.0  0.0  0.0          0.0   0.0  ...   \n",
            "...   ...  ...  ...   ...  ...  ...  ...  ...          ...   ...  ...   \n",
            "1301  0.0  0.0  0.0   0.0  0.0  0.0  0.0  0.0          0.0   0.0  ...   \n",
            "1302  0.0  0.0  0.0   0.0  0.0  0.0  0.0  0.0          0.0   0.0  ...   \n",
            "1303  0.0  0.0  0.0   0.0  0.0  0.0  0.0  0.0          0.0   0.0  ...   \n",
            "1304  0.0  0.0  0.0   0.0  0.0  0.0  0.0  0.0          0.0   0.0  ...   \n",
            "1305  0.0  0.0  0.0   0.0  0.0  0.0  0.0  0.0          0.0   0.0  ...   \n",
            "\n",
            "           yes  yesterday   yo  you   yr  yrs  yup  zed   ìï  spam  \n",
            "0     0.000000        0.0  0.0  0.0  0.0  0.0  0.0  0.0  0.0     0  \n",
            "1     0.000000        0.0  0.0  0.0  0.0  0.0  0.0  0.0  0.0     0  \n",
            "2     0.000000        0.0  0.0  0.0  0.0  0.0  0.0  0.0  0.0     0  \n",
            "3     0.000000        0.0  0.0  0.0  0.0  0.0  0.0  0.0  0.0     0  \n",
            "4     0.000000        0.0  0.0  0.0  0.0  0.0  0.0  0.0  0.0     0  \n",
            "...        ...        ...  ...  ...  ...  ...  ...  ...  ...   ...  \n",
            "1301  0.000000        0.0  0.0  0.0  0.0  0.0  0.0  0.0  0.0     1  \n",
            "1302  0.225486        0.0  0.0  0.0  0.0  0.0  0.0  0.0  0.0     1  \n",
            "1303  0.213094        0.0  0.0  0.0  0.0  0.0  0.0  0.0  0.0     1  \n",
            "1304  0.000000        0.0  0.0  0.0  0.0  0.0  0.0  0.0  0.0     1  \n",
            "1305  0.000000        0.0  0.0  0.0  0.0  0.0  0.0  0.0  0.0     1  \n",
            "\n",
            "[1306 rows x 1023 columns]\n"
          ]
        }
      ]
    },
    {
      "cell_type": "code",
      "source": [
        "# Fit and transform the messages (without stop words) to a TF-IDF representation\n",
        "tfidf_scores_no_stopwords = tfidf_vectorizer.fit_transform(df_balanced['message_no_stopwords'])\n",
        "\n",
        "# Convert the TF-IDF scores to a DataFrame for easier analysis\n",
        "tfidf_df_no_stopwords = pd.DataFrame(tfidf_scores_no_stopwords.toarray(), columns=tfidf_vectorizer.get_feature_names_out())\n",
        "\n",
        "# Add the spam column back to the DataFrame to differentiate between spam and non-spam messages\n",
        "tfidf_df_no_stopwords['spam'] = df_balanced['spam'].values\n",
        "\n",
        "# Calculate the average TF-IDF score for each term, separated by spam and non-spam messages.\n",
        "average_tfidf_scores_no_stopwords = tfidf_df_no_stopwords.groupby('spam').mean().T\n",
        "average_tfidf_scores_no_stopwords.columns = ['Non-Spam Avg TF-IDF', 'Spam Avg TF-IDF']\n",
        "\n",
        "# Display the terms with the highest average TF-IDF scores for spam and non-spam messages.\n",
        "highest_non_spam_tfidf_no_stopwords = average_tfidf_scores_no_stopwords.sort_values(by='Non-Spam Avg TF-IDF', ascending=False).head(10)\n",
        "highest_spam_tfidf_no_stopwords = average_tfidf_scores_no_stopwords.sort_values(by='Spam Avg TF-IDF', ascending=False).head(10)\n",
        "\n",
        "highest_non_spam_tfidf_no_stopwords, highest_spam_tfidf_no_stopwords"
      ],
      "metadata": {
        "colab": {
          "base_uri": "https://localhost:8080/"
        },
        "id": "aMWYCX7Nwx3R",
        "outputId": "f7a5a13c-5bbd-4ead-eb61-79b72c885fd8"
      },
      "execution_count": null,
      "outputs": [
        {
          "output_type": "execute_result",
          "data": {
            "text/plain": [
              "(       Non-Spam Avg TF-IDF  Spam Avg TF-IDF\n",
              " come              0.017810         0.000559\n",
              " time              0.014335         0.005324\n",
              " gt                0.013527         0.000000\n",
              " lt                0.013286         0.000000\n",
              " going             0.012964         0.000851\n",
              " know              0.012617         0.005792\n",
              " want              0.012297         0.007581\n",
              " ok                0.012222         0.001880\n",
              " nt                0.012028         0.003423\n",
              " got               0.011938         0.001410,\n",
              "         Non-Spam Avg TF-IDF  Spam Avg TF-IDF\n",
              " free               0.001358         0.039846\n",
              " txt                0.000620         0.026599\n",
              " mobile             0.000000         0.026555\n",
              " text               0.003069         0.025189\n",
              " stop               0.000599         0.024294\n",
              " claim              0.000000         0.024173\n",
              " ur                 0.008567         0.023968\n",
              " reply              0.000000         0.023917\n",
              " prize              0.000000         0.023187\n",
              " www                0.000000         0.019238)"
            ]
          },
          "metadata": {},
          "execution_count": 44
        }
      ]
    },
    {
      "cell_type": "code",
      "source": [
        "# Create a bar chart for the highest TF-IDF scores in non-spam messages\n",
        "plt.figure(figsize=(10, 5))\n",
        "sns.barplot(x=highest_non_spam_tfidf_no_stopwords.index, y='Non-Spam Avg TF-IDF', data=highest_non_spam_tfidf_no_stopwords)\n",
        "plt.xticks(rotation=45)\n",
        "plt.title('Top TF-IDF Scores in Non-Spam Messages')\n",
        "plt.ylabel('Average TF-IDF Score')\n",
        "plt.xlabel('Terms')\n",
        "plt.show()\n",
        "\n",
        "# Create a bar chart for the highest TF-IDF scores in spam messages\n",
        "plt.figure(figsize=(10, 5))\n",
        "sns.barplot(x=highest_spam_tfidf_no_stopwords.index, y='Spam Avg TF-IDF', data=highest_spam_tfidf_no_stopwords)\n",
        "plt.xticks(rotation=45)\n",
        "plt.title('Top TF-IDF Scores in Spam Messages')\n",
        "plt.ylabel('Average TF-IDF Score')\n",
        "plt.xlabel('Terms')\n",
        "plt.show()"
      ],
      "metadata": {
        "colab": {
          "base_uri": "https://localhost:8080/",
          "height": 1000
        },
        "id": "VRWBj96Z8Gy1",
        "outputId": "ab16fa29-960c-44ca-c869-723a39337cb0"
      },
      "execution_count": null,
      "outputs": [
        {
          "output_type": "display_data",
          "data": {
            "text/plain": [
              "<Figure size 1000x500 with 1 Axes>"
            ],
            "image/png": "[encoded data removed]"
          },
          "metadata": {}
        },
        {
          "output_type": "display_data",
          "data": {
            "text/plain": [
              "<Figure size 1000x500 with 1 Axes>"
            ],
            "image/png": "[encoded data removed]"
          },
          "metadata": {}
        }
      ]
    },
    {
      "cell_type": "code",
      "source": [
        "from sklearn.model_selection import train_test_split\n",
        "from sklearn.linear_model import LogisticRegression\n",
        "from sklearn.metrics import classification_report, confusion_matrix, accuracy_score\n",
        "\n",
        "# Split the data into features and labels\n",
        "X = tfidf_df.drop('spam', axis=1)  # Features\n",
        "y = tfidf_df['spam']  # Labels\n",
        "\n",
        "# Split the dataset into training and test sets (80% train, 20% test)\n",
        "X_train, X_test, y_train, y_test = train_test_split(X, y, test_size=0.2, random_state=42)\n",
        "\n",
        "# Initialize the classifiers\n",
        "lr_classifier = LogisticRegression(random_state=42)\n",
        "\n",
        "# Create a dictionary to store classifier\n",
        "classifiers = {\n",
        "    \"Logistic Regression\": lr_classifier\n",
        "}\n",
        "\n",
        "# Train, predict and evaluate each classifier\n",
        "for name, clf in classifiers.items():\n",
        "    clf.fit(X_train, y_train)\n",
        "    y_pred = clf.predict(X_test)\n",
        "\n",
        "    # Evaluation\n",
        "    accuracy = accuracy_score(y_test, y_pred)\n",
        "    conf_matrix = confusion_matrix(y_test, y_pred)\n",
        "    class_report = classification_report(y_test, y_pred)\n",
        "\n",
        "    # Print the evaluation results\n",
        "    print(f\"\\n{name} - Accuracy: {accuracy}\")\n",
        "    print(f\"{name} - Classification Report:\\n{class_report}\")\n",
        "\n",
        "    # Plot confusion matrix heatmap\n",
        "    plt.figure(figsize=(8, 6))\n",
        "    sns.heatmap(conf_matrix, annot=True, fmt='d', cmap='Blues')\n",
        "    plt.title(f\"{name} - Confusion Matrix\")\n",
        "    plt.xlabel('Predicted Labels')\n",
        "    plt.ylabel('True Labels')\n",
        "    plt.show()"
      ],
      "metadata": {
        "colab": {
          "base_uri": "https://localhost:8080/",
          "height": 778
        },
        "id": "qnH31tUDNoof",
        "outputId": "fb891d52-8f29-4aaf-b060-8f078b6cf5ad"
      },
      "execution_count": null,
      "outputs": [
        {
          "output_type": "stream",
          "name": "stdout",
          "text": [
            "\n",
            "Logistic Regression - Accuracy: 0.9312977099236641\n",
            "Logistic Regression - Classification Report:\n",
            "              precision    recall  f1-score   support\n",
            "\n",
            "           0       0.90      0.98      0.94       133\n",
            "           1       0.97      0.88      0.93       129\n",
            "\n",
            "    accuracy                           0.93       262\n",
            "   macro avg       0.94      0.93      0.93       262\n",
            "weighted avg       0.93      0.93      0.93       262\n",
            "\n"
          ]
        },
        {
          "output_type": "display_data",
          "data": {
            "text/plain": [
              "<Figure size 800x600 with 2 Axes>"
            ],
            "image/png": "[encoded data removed]"
          },
          "metadata": {}
        }
      ]
    },
    {
      "cell_type": "code",
      "source": [
        "# Fit the Logistic Regression classifier\n",
        "lr_classifier.fit(X_train, y_train)\n",
        "\n",
        "# Retrieve the coefficients from the classifier\n",
        "coefficients = lr_classifier.coef_[0]  # Get the coefficients for the features\n",
        "feature_names = tfidf_vectorizer.get_feature_names_out()\n",
        "\n",
        "# Convert the Logistic Regression coefficients to a DataFrame\n",
        "coef_df = pd.DataFrame({'coefficients': coefficients,\n",
        "                        'vocabulary': feature_names})\n",
        "\n",
        "# Sort by the absolute values of coefficients to get the most negative and most positive coefficients\n",
        "most_negative = coef_df.sort_values(by='coefficients').head(20).reset_index(drop=True)\n",
        "most_positive = coef_df.sort_values(by='coefficients', ascending=False).head(20).reset_index(drop=True)\n",
        "\n",
        "# Concatenate the most negative and most positive coefficients for comparison\n",
        "comparison_df = pd.concat([most_negative, most_positive], axis=1)\n",
        "\n",
        "# Rename columns for clarity\n",
        "comparison_df.columns = ['Coefficients_Negative', 'Feature_non_spam', 'Coefficients_Positive', 'Feature_spam']\n",
        "\n",
        "# Display the DataFrame\n",
        "comparison_df"
      ],
      "metadata": {
        "colab": {
          "base_uri": "https://localhost:8080/",
          "height": 677
        },
        "id": "p5Hh3SEuecA4",
        "outputId": "58c546e8-1372-4641-9d44-91d5c2498c76"
      },
      "execution_count": null,
      "outputs": [
        {
          "output_type": "execute_result",
          "data": {
            "text/plain": [
              "    Coefficients_Negative Feature_non_spam  Coefficients_Positive Feature_spam\n",
              "0               -1.356113             come               2.770275          txt\n",
              "1               -1.163827               gt               2.580633       mobile\n",
              "2               -1.123160               lt               2.294480        reply\n",
              "3               -1.117640               ok               2.259505         free\n",
              "4               -1.075308              lor               2.129217         stop\n",
              "5               -1.029592              wat               2.126483        claim\n",
              "6               -1.018382             home               1.951656          new\n",
              "7               -0.979050              way               1.948135         text\n",
              "8               -0.975741            going               1.942266          www\n",
              "9               -0.957397               na               1.927420         150p\n",
              "10              -0.934549             yeah               1.739459        prize\n",
              "11              -0.910377              got               1.695868           uk\n",
              "12              -0.872232             love               1.657028           50\n",
              "13              -0.864646             work               1.641198         chat\n",
              "14              -0.857274               da               1.631610          won\n",
              "15              -0.853681             need               1.589543      service\n",
              "16              -0.826844            think               1.581945         cash\n",
              "17              -0.822086             fine               1.508142       urgent\n",
              "18              -0.818106            happy               1.457357          win\n",
              "19              -0.797547             soon               1.383555     customer"
            ],
            "text/html": [
              "\n",
              "  <div id=\"df-03c5bfe7-bf52-4c41-b8ac-3957a3c8fce1\" class=\"colab-df-container\">\n",
              "    <div>\n",
              "<style scoped>\n",
              "    .dataframe tbody tr th:only-of-type {\n",
              "        vertical-align: middle;\n",
              "    }\n",
              "\n",
              "    .dataframe tbody tr th {\n",
              "        vertical-align: top;\n",
              "    }\n",
              "\n",
              "    .dataframe thead th {\n",
              "        text-align: right;\n",
              "    }\n",
              "</style>\n",
              "<table border=\"1\" class=\"dataframe\">\n",
              "  <thead>\n",
              "    <tr style=\"text-align: right;\">\n",
              "      <th></th>\n",
              "      <th>Coefficients_Negative</th>\n",
              "      <th>Feature_non_spam</th>\n",
              "      <th>Coefficients_Positive</th>\n",
              "      <th>Feature_spam</th>\n",
              "    </tr>\n",
              "  </thead>\n",
              "  <tbody>\n",
              "    <tr>\n",
              "      <th>0</th>\n",
              "      <td>-1.356113</td>\n",
              "      <td>come</td>\n",
              "      <td>2.770275</td>\n",
              "      <td>txt</td>\n",
              "    </tr>\n",
              "    <tr>\n",
              "      <th>1</th>\n",
              "      <td>-1.163827</td>\n",
              "      <td>gt</td>\n",
              "      <td>2.580633</td>\n",
              "      <td>mobile</td>\n",
              "    </tr>\n",
              "    <tr>\n",
              "      <th>2</th>\n",
              "      <td>-1.123160</td>\n",
              "      <td>lt</td>\n",
              "      <td>2.294480</td>\n",
              "      <td>reply</td>\n",
              "    </tr>\n",
              "    <tr>\n",
              "      <th>3</th>\n",
              "      <td>-1.117640</td>\n",
              "      <td>ok</td>\n",
              "      <td>2.259505</td>\n",
              "      <td>free</td>\n",
              "    </tr>\n",
              "    <tr>\n",
              "      <th>4</th>\n",
              "      <td>-1.075308</td>\n",
              "      <td>lor</td>\n",
              "      <td>2.129217</td>\n",
              "      <td>stop</td>\n",
              "    </tr>\n",
              "    <tr>\n",
              "      <th>5</th>\n",
              "      <td>-1.029592</td>\n",
              "      <td>wat</td>\n",
              "      <td>2.126483</td>\n",
              "      <td>claim</td>\n",
              "    </tr>\n",
              "    <tr>\n",
              "      <th>6</th>\n",
              "      <td>-1.018382</td>\n",
              "      <td>home</td>\n",
              "      <td>1.951656</td>\n",
              "      <td>new</td>\n",
              "    </tr>\n",
              "    <tr>\n",
              "      <th>7</th>\n",
              "      <td>-0.979050</td>\n",
              "      <td>way</td>\n",
              "      <td>1.948135</td>\n",
              "      <td>text</td>\n",
              "    </tr>\n",
              "    <tr>\n",
              "      <th>8</th>\n",
              "      <td>-0.975741</td>\n",
              "      <td>going</td>\n",
              "      <td>1.942266</td>\n",
              "      <td>www</td>\n",
              "    </tr>\n",
              "    <tr>\n",
              "      <th>9</th>\n",
              "      <td>-0.957397</td>\n",
              "      <td>na</td>\n",
              "      <td>1.927420</td>\n",
              "      <td>150p</td>\n",
              "    </tr>\n",
              "    <tr>\n",
              "      <th>10</th>\n",
              "      <td>-0.934549</td>\n",
              "      <td>yeah</td>\n",
              "      <td>1.739459</td>\n",
              "      <td>prize</td>\n",
              "    </tr>\n",
              "    <tr>\n",
              "      <th>11</th>\n",
              "      <td>-0.910377</td>\n",
              "      <td>got</td>\n",
              "      <td>1.695868</td>\n",
              "      <td>uk</td>\n",
              "    </tr>\n",
              "    <tr>\n",
              "      <th>12</th>\n",
              "      <td>-0.872232</td>\n",
              "      <td>love</td>\n",
              "      <td>1.657028</td>\n",
              "      <td>50</td>\n",
              "    </tr>\n",
              "    <tr>\n",
              "      <th>13</th>\n",
              "      <td>-0.864646</td>\n",
              "      <td>work</td>\n",
              "      <td>1.641198</td>\n",
              "      <td>chat</td>\n",
              "    </tr>\n",
              "    <tr>\n",
              "      <th>14</th>\n",
              "      <td>-0.857274</td>\n",
              "      <td>da</td>\n",
              "      <td>1.631610</td>\n",
              "      <td>won</td>\n",
              "    </tr>\n",
              "    <tr>\n",
              "      <th>15</th>\n",
              "      <td>-0.853681</td>\n",
              "      <td>need</td>\n",
              "      <td>1.589543</td>\n",
              "      <td>service</td>\n",
              "    </tr>\n",
              "    <tr>\n",
              "      <th>16</th>\n",
              "      <td>-0.826844</td>\n",
              "      <td>think</td>\n",
              "      <td>1.581945</td>\n",
              "      <td>cash</td>\n",
              "    </tr>\n",
              "    <tr>\n",
              "      <th>17</th>\n",
              "      <td>-0.822086</td>\n",
              "      <td>fine</td>\n",
              "      <td>1.508142</td>\n",
              "      <td>urgent</td>\n",
              "    </tr>\n",
              "    <tr>\n",
              "      <th>18</th>\n",
              "      <td>-0.818106</td>\n",
              "      <td>happy</td>\n",
              "      <td>1.457357</td>\n",
              "      <td>win</td>\n",
              "    </tr>\n",
              "    <tr>\n",
              "      <th>19</th>\n",
              "      <td>-0.797547</td>\n",
              "      <td>soon</td>\n",
              "      <td>1.383555</td>\n",
              "      <td>customer</td>\n",
              "    </tr>\n",
              "  </tbody>\n",
              "</table>\n",
              "</div>\n",
              "    <div class=\"colab-df-buttons\">\n",
              "\n",
              "  <div class=\"colab-df-container\">\n",
              "    <button class=\"colab-df-convert\" onclick=\"convertToInteractive('df-03c5bfe7-bf52-4c41-b8ac-3957a3c8fce1')\"\n",
              "            title=\"Convert this dataframe to an interactive table.\"\n",
              "            style=\"display:none;\">\n",
              "\n",
              "  <svg xmlns=\"http://www.w3.org/2000/svg\" height=\"24px\" viewBox=\"0 -960 960 960\">\n",
              "    <path d=\"M120-120v-720h720v720H120Zm60-500h600v-160H180v160Zm220 220h160v-160H400v160Zm0 220h160v-160H400v160ZM180-400h160v-160H180v160Zm440 0h160v-160H620v160ZM180-180h160v-160H180v160Zm440 0h160v-160H620v160Z\"/>\n",
              "  </svg>\n",
              "    </button>\n",
              "\n",
              "  <style>\n",
              "    .colab-df-container {\n",
              "      display:flex;\n",
              "      gap: 12px;\n",
              "    }\n",
              "\n",
              "    .colab-df-convert {\n",
              "      background-color: #E8F0FE;\n",
              "      border: none;\n",
              "      border-radius: 50%;\n",
              "      cursor: pointer;\n",
              "      display: none;\n",
              "      fill: #1967D2;\n",
              "      height: 32px;\n",
              "      padding: 0 0 0 0;\n",
              "      width: 32px;\n",
              "    }\n",
              "\n",
              "    .colab-df-convert:hover {\n",
              "      background-color: #E2EBFA;\n",
              "      box-shadow: 0px 1px 2px rgba(60, 64, 67, 0.3), 0px 1px 3px 1px rgba(60, 64, 67, 0.15);\n",
              "      fill: #174EA6;\n",
              "    }\n",
              "\n",
              "    .colab-df-buttons div {\n",
              "      margin-bottom: 4px;\n",
              "    }\n",
              "\n",
              "    [theme=dark] .colab-df-convert {\n",
              "      background-color: #3B4455;\n",
              "      fill: #D2E3FC;\n",
              "    }\n",
              "\n",
              "    [theme=dark] .colab-df-convert:hover {\n",
              "      background-color: #434B5C;\n",
              "      box-shadow: 0px 1px 3px 1px rgba(0, 0, 0, 0.15);\n",
              "      filter: drop-shadow(0px 1px 2px rgba(0, 0, 0, 0.3));\n",
              "      fill: #FFFFFF;\n",
              "    }\n",
              "  </style>\n",
              "\n",
              "    <script>\n",
              "      const buttonEl =\n",
              "        document.querySelector('#df-03c5bfe7-bf52-4c41-b8ac-3957a3c8fce1 button.colab-df-convert');\n",
              "      buttonEl.style.display =\n",
              "        google.colab.kernel.accessAllowed ? 'block' : 'none';\n",
              "\n",
              "      async function convertToInteractive(key) {\n",
              "        const element = document.querySelector('#df-03c5bfe7-bf52-4c41-b8ac-3957a3c8fce1');\n",
              "        const dataTable =\n",
              "          await google.colab.kernel.invokeFunction('convertToInteractive',\n",
              "                                                    [key], {});\n",
              "        if (!dataTable) return;\n",
              "\n",
              "        const docLinkHtml = 'Like what you see? Visit the ' +\n",
              "          '<a target=\"_blank\" href=https://colab.research.google.com/notebooks/data_table.ipynb>data table notebook</a>'\n",
              "          + ' to learn more about interactive tables.';\n",
              "        element.innerHTML = '';\n",
              "        dataTable['output_type'] = 'display_data';\n",
              "        await google.colab.output.renderOutput(dataTable, element);\n",
              "        const docLink = document.createElement('div');\n",
              "        docLink.innerHTML = docLinkHtml;\n",
              "        element.appendChild(docLink);\n",
              "      }\n",
              "    </script>\n",
              "  </div>\n",
              "\n",
              "\n",
              "<div id=\"df-96e5e0a6-85a1-4021-86ae-2f670f91becf\">\n",
              "  <button class=\"colab-df-quickchart\" onclick=\"quickchart('df-96e5e0a6-85a1-4021-86ae-2f670f91becf')\"\n",
              "            title=\"Suggest charts\"\n",
              "            style=\"display:none;\">\n",
              "\n",
              "<svg xmlns=\"http://www.w3.org/2000/svg\" height=\"24px\"viewBox=\"0 0 24 24\"\n",
              "     width=\"24px\">\n",
              "    <g>\n",
              "        <path d=\"M19 3H5c-1.1 0-2 .9-2 2v14c0 1.1.9 2 2 2h14c1.1 0 2-.9 2-2V5c0-1.1-.9-2-2-2zM9 17H7v-7h2v7zm4 0h-2V7h2v10zm4 0h-2v-4h2v4z\"/>\n",
              "    </g>\n",
              "</svg>\n",
              "  </button>\n",
              "\n",
              "<style>\n",
              "  .colab-df-quickchart {\n",
              "      --bg-color: #E8F0FE;\n",
              "      --fill-color: #1967D2;\n",
              "      --hover-bg-color: #E2EBFA;\n",
              "      --hover-fill-color: #174EA6;\n",
              "      --disabled-fill-color: #AAA;\n",
              "      --disabled-bg-color: #DDD;\n",
              "  }\n",
              "\n",
              "  [theme=dark] .colab-df-quickchart {\n",
              "      --bg-color: #3B4455;\n",
              "      --fill-color: #D2E3FC;\n",
              "      --hover-bg-color: #434B5C;\n",
              "      --hover-fill-color: #FFFFFF;\n",
              "      --disabled-bg-color: #3B4455;\n",
              "      --disabled-fill-color: #666;\n",
              "  }\n",
              "\n",
              "  .colab-df-quickchart {\n",
              "    background-color: var(--bg-color);\n",
              "    border: none;\n",
              "    border-radius: 50%;\n",
              "    cursor: pointer;\n",
              "    display: none;\n",
              "    fill: var(--fill-color);\n",
              "    height: 32px;\n",
              "    padding: 0;\n",
              "    width: 32px;\n",
              "  }\n",
              "\n",
              "  .colab-df-quickchart:hover {\n",
              "    background-color: var(--hover-bg-color);\n",
              "    box-shadow: 0 1px 2px rgba(60, 64, 67, 0.3), 0 1px 3px 1px rgba(60, 64, 67, 0.15);\n",
              "    fill: var(--button-hover-fill-color);\n",
              "  }\n",
              "\n",
              "  .colab-df-quickchart-complete:disabled,\n",
              "  .colab-df-quickchart-complete:disabled:hover {\n",
              "    background-color: var(--disabled-bg-color);\n",
              "    fill: var(--disabled-fill-color);\n",
              "    box-shadow: none;\n",
              "  }\n",
              "\n",
              "  .colab-df-spinner {\n",
              "    border: 2px solid var(--fill-color);\n",
              "    border-color: transparent;\n",
              "    border-bottom-color: var(--fill-color);\n",
              "    animation:\n",
              "      spin 1s steps(1) infinite;\n",
              "  }\n",
              "\n",
              "  @keyframes spin {\n",
              "    0% {\n",
              "      border-color: transparent;\n",
              "      border-bottom-color: var(--fill-color);\n",
              "      border-left-color: var(--fill-color);\n",
              "    }\n",
              "    20% {\n",
              "      border-color: transparent;\n",
              "      border-left-color: var(--fill-color);\n",
              "      border-top-color: var(--fill-color);\n",
              "    }\n",
              "    30% {\n",
              "      border-color: transparent;\n",
              "      border-left-color: var(--fill-color);\n",
              "      border-top-color: var(--fill-color);\n",
              "      border-right-color: var(--fill-color);\n",
              "    }\n",
              "    40% {\n",
              "      border-color: transparent;\n",
              "      border-right-color: var(--fill-color);\n",
              "      border-top-color: var(--fill-color);\n",
              "    }\n",
              "    60% {\n",
              "      border-color: transparent;\n",
              "      border-right-color: var(--fill-color);\n",
              "    }\n",
              "    80% {\n",
              "      border-color: transparent;\n",
              "      border-right-color: var(--fill-color);\n",
              "      border-bottom-color: var(--fill-color);\n",
              "    }\n",
              "    90% {\n",
              "      border-color: transparent;\n",
              "      border-bottom-color: var(--fill-color);\n",
              "    }\n",
              "  }\n",
              "</style>\n",
              "\n",
              "  <script>\n",
              "    async function quickchart(key) {\n",
              "      const quickchartButtonEl =\n",
              "        document.querySelector('#' + key + ' button');\n",
              "      quickchartButtonEl.disabled = true;  // To prevent multiple clicks.\n",
              "      quickchartButtonEl.classList.add('colab-df-spinner');\n",
              "      try {\n",
              "        const charts = await google.colab.kernel.invokeFunction(\n",
              "            'suggestCharts', [key], {});\n",
              "      } catch (error) {\n",
              "        console.error('Error during call to suggestCharts:', error);\n",
              "      }\n",
              "      quickchartButtonEl.classList.remove('colab-df-spinner');\n",
              "      quickchartButtonEl.classList.add('colab-df-quickchart-complete');\n",
              "    }\n",
              "    (() => {\n",
              "      let quickchartButtonEl =\n",
              "        document.querySelector('#df-96e5e0a6-85a1-4021-86ae-2f670f91becf button');\n",
              "      quickchartButtonEl.style.display =\n",
              "        google.colab.kernel.accessAllowed ? 'block' : 'none';\n",
              "    })();\n",
              "  </script>\n",
              "</div>\n",
              "\n",
              "  <div id=\"id_28e3e627-cd67-4daf-b401-f691c772ef0c\">\n",
              "    <style>\n",
              "      .colab-df-generate {\n",
              "        background-color: #E8F0FE;\n",
              "        border: none;\n",
              "        border-radius: 50%;\n",
              "        cursor: pointer;\n",
              "        display: none;\n",
              "        fill: #1967D2;\n",
              "        height: 32px;\n",
              "        padding: 0 0 0 0;\n",
              "        width: 32px;\n",
              "      }\n",
              "\n",
              "      .colab-df-generate:hover {\n",
              "        background-color: #E2EBFA;\n",
              "        box-shadow: 0px 1px 2px rgba(60, 64, 67, 0.3), 0px 1px 3px 1px rgba(60, 64, 67, 0.15);\n",
              "        fill: #174EA6;\n",
              "      }\n",
              "\n",
              "      [theme=dark] .colab-df-generate {\n",
              "        background-color: #3B4455;\n",
              "        fill: #D2E3FC;\n",
              "      }\n",
              "\n",
              "      [theme=dark] .colab-df-generate:hover {\n",
              "        background-color: #434B5C;\n",
              "        box-shadow: 0px 1px 3px 1px rgba(0, 0, 0, 0.15);\n",
              "        filter: drop-shadow(0px 1px 2px rgba(0, 0, 0, 0.3));\n",
              "        fill: #FFFFFF;\n",
              "      }\n",
              "    </style>\n",
              "    <button class=\"colab-df-generate\" onclick=\"generateWithVariable('comparison_df')\"\n",
              "            title=\"Generate code using this dataframe.\"\n",
              "            style=\"display:none;\">\n",
              "\n",
              "  <svg xmlns=\"http://www.w3.org/2000/svg\" height=\"24px\"viewBox=\"0 0 24 24\"\n",
              "       width=\"24px\">\n",
              "    <path d=\"M7,19H8.4L18.45,9,17,7.55,7,17.6ZM5,21V16.75L18.45,3.32a2,2,0,0,1,2.83,0l1.4,1.43a1.91,1.91,0,0,1,.58,1.4,1.91,1.91,0,0,1-.58,1.4L9.25,21ZM18.45,9,17,7.55Zm-12,3A5.31,5.31,0,0,0,4.9,8.1,5.31,5.31,0,0,0,1,6.5,5.31,5.31,0,0,0,4.9,4.9,5.31,5.31,0,0,0,6.5,1,5.31,5.31,0,0,0,8.1,4.9,5.31,5.31,0,0,0,12,6.5,5.46,5.46,0,0,0,6.5,12Z\"/>\n",
              "  </svg>\n",
              "    </button>\n",
              "    <script>\n",
              "      (() => {\n",
              "      const buttonEl =\n",
              "        document.querySelector('#id_28e3e627-cd67-4daf-b401-f691c772ef0c button.colab-df-generate');\n",
              "      buttonEl.style.display =\n",
              "        google.colab.kernel.accessAllowed ? 'block' : 'none';\n",
              "\n",
              "      buttonEl.onclick = () => {\n",
              "        google.colab.notebook.generateWithVariable('comparison_df');\n",
              "      }\n",
              "      })();\n",
              "    </script>\n",
              "  </div>\n",
              "\n",
              "    </div>\n",
              "  </div>\n"
            ],
            "application/vnd.google.colaboratory.intrinsic+json": {
              "type": "dataframe",
              "variable_name": "comparison_df",
              "summary": "{\n  \"name\": \"comparison_df\",\n  \"rows\": 20,\n  \"fields\": [\n    {\n      \"column\": \"Coefficients_Negative\",\n      \"properties\": {\n        \"dtype\": \"number\",\n        \"std\": 0.14435810293731477,\n        \"min\": -1.356112646079065,\n        \"max\": -0.7975470164287928,\n        \"num_unique_values\": 20,\n        \"samples\": [\n          -1.356112646079065,\n          -0.8220863781710794,\n          -0.8536808366713448\n        ],\n        \"semantic_type\": \"\",\n        \"description\": \"\"\n      }\n    },\n    {\n      \"column\": \"Feature_non_spam\",\n      \"properties\": {\n        \"dtype\": \"string\",\n        \"num_unique_values\": 20,\n        \"samples\": [\n          \"come\",\n          \"fine\",\n          \"need\"\n        ],\n        \"semantic_type\": \"\",\n        \"description\": \"\"\n      }\n    },\n    {\n      \"column\": \"Coefficients_Positive\",\n      \"properties\": {\n        \"dtype\": \"number\",\n        \"std\": 0.37657689174574194,\n        \"min\": 1.3835549813402328,\n        \"max\": 2.7702745938102513,\n        \"num_unique_values\": 20,\n        \"samples\": [\n          2.7702745938102513,\n          1.5081419954081736,\n          1.5895427275366025\n        ],\n        \"semantic_type\": \"\",\n        \"description\": \"\"\n      }\n    },\n    {\n      \"column\": \"Feature_spam\",\n      \"properties\": {\n        \"dtype\": \"string\",\n        \"num_unique_values\": 20,\n        \"samples\": [\n          \"txt\",\n          \"urgent\",\n          \"service\"\n        ],\n        \"semantic_type\": \"\",\n        \"description\": \"\"\n      }\n    }\n  ]\n}"
            }
          },
          "metadata": {},
          "execution_count": 54
        }
      ]
    }
  ]
}